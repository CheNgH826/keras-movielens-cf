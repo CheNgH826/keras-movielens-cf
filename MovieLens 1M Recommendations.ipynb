{
 "cells": [
  {
   "cell_type": "markdown",
   "metadata": {},
   "source": [
    "## Import packages"
   ]
  },
  {
   "cell_type": "code",
   "execution_count": 1,
   "metadata": {
    "collapsed": false
   },
   "outputs": [
    {
     "name": "stderr",
     "output_type": "stream",
     "text": [
      "Using Theano backend.\n"
     ]
    }
   ],
   "source": [
    "import pandas as pd\n",
    "from CFModel import CFModel"
   ]
  },
  {
   "cell_type": "markdown",
   "metadata": {},
   "source": [
    "## Define constants\n"
   ]
  },
  {
   "cell_type": "code",
   "execution_count": 2,
   "metadata": {
    "collapsed": false
   },
   "outputs": [],
   "source": [
    "RATINGS_CSV_FILE = 'ml1m_ratings.csv'\n",
    "USERS_CSV_FILE = 'ml1m_users.csv'\n",
    "MOVIES_CSV_FILE = 'ml1m_movies.csv'\n",
    "MODEL_WEIGHTS_FILE = 'ml1m_weights.h5'\n",
    "K_FACTORS = 20\n",
    "TEST_USER = 3000"
   ]
  },
  {
   "cell_type": "markdown",
   "metadata": {},
   "source": [
    "## Load MovieLens 1M data"
   ]
  },
  {
   "cell_type": "code",
   "execution_count": 3,
   "metadata": {
    "collapsed": false
   },
   "outputs": [
    {
     "name": "stdout",
     "output_type": "stream",
     "text": [
      "1000209 ratings loaded.\n"
     ]
    }
   ],
   "source": [
    "ratings = pd.read_csv(RATINGS_CSV_FILE, sep='\\t', encoding='latin-1', usecols=['userid', 'movieid', 'rating'])\n",
    "max_userid = ratings['userid'].drop_duplicates().max()\n",
    "max_movieid = ratings['movieid'].drop_duplicates().max()\n",
    "print len(ratings), 'ratings loaded.'"
   ]
  },
  {
   "cell_type": "code",
   "execution_count": 4,
   "metadata": {
    "collapsed": false
   },
   "outputs": [
    {
     "name": "stdout",
     "output_type": "stream",
     "text": [
      "6040 descriptions of 6040 users loaded.\n"
     ]
    }
   ],
   "source": [
    "users = pd.read_csv(USERS_CSV_FILE, sep='\\t', encoding='latin-1', usecols=['userid', 'gender', 'zipcode', 'age_desc', 'occ_desc'])\n",
    "print len(users), 'descriptions of', max_userid, 'users loaded.'"
   ]
  },
  {
   "cell_type": "code",
   "execution_count": 5,
   "metadata": {
    "collapsed": false
   },
   "outputs": [
    {
     "name": "stdout",
     "output_type": "stream",
     "text": [
      "3883 descriptions of 3952 movies loaded.\n"
     ]
    }
   ],
   "source": [
    "movies = pd.read_csv(MOVIES_CSV_FILE, sep='\\t', encoding='latin-1', usecols=['movieid', 'title', 'genre'])\n",
    "print len(movies), 'descriptions of', max_movieid, 'movies loaded.'"
   ]
  },
  {
   "cell_type": "markdown",
   "metadata": {},
   "source": [
    "## Make recommendations for a given user"
   ]
  },
  {
   "cell_type": "code",
   "execution_count": 6,
   "metadata": {
    "collapsed": true
   },
   "outputs": [],
   "source": [
    "trained_model = CFModel(max_userid, max_movieid, K_FACTORS)"
   ]
  },
  {
   "cell_type": "code",
   "execution_count": 7,
   "metadata": {
    "collapsed": true
   },
   "outputs": [],
   "source": [
    "trained_model.load_weights(MODEL_WEIGHTS_FILE)"
   ]
  },
  {
   "cell_type": "code",
   "execution_count": 8,
   "metadata": {
    "collapsed": false
   },
   "outputs": [
    {
     "data": {
      "text/html": [
       "<div>\n",
       "<table border=\"1\" class=\"dataframe\">\n",
       "  <thead>\n",
       "    <tr style=\"text-align: right;\">\n",
       "      <th></th>\n",
       "      <th>userid</th>\n",
       "      <th>gender</th>\n",
       "      <th>zipcode</th>\n",
       "      <th>age_desc</th>\n",
       "      <th>occ_desc</th>\n",
       "    </tr>\n",
       "  </thead>\n",
       "  <tbody>\n",
       "    <tr>\n",
       "      <th>2999</th>\n",
       "      <td>3000</td>\n",
       "      <td>M</td>\n",
       "      <td>55408</td>\n",
       "      <td>25-34</td>\n",
       "      <td>college/grad student</td>\n",
       "    </tr>\n",
       "  </tbody>\n",
       "</table>\n",
       "</div>"
      ],
      "text/plain": [
       "      userid gender zipcode age_desc              occ_desc\n",
       "2999    3000      M   55408    25-34  college/grad student"
      ]
     },
     "execution_count": 8,
     "metadata": {},
     "output_type": "execute_result"
    }
   ],
   "source": [
    "users[users['userid'] == TEST_USER]"
   ]
  },
  {
   "cell_type": "code",
   "execution_count": 9,
   "metadata": {
    "collapsed": true
   },
   "outputs": [],
   "source": [
    "def predict_rating(userid, movieid):\n",
    "    return trained_model.rate(userid - 1, movieid - 1)"
   ]
  },
  {
   "cell_type": "code",
   "execution_count": 10,
   "metadata": {
    "collapsed": false
   },
   "outputs": [
    {
     "data": {
      "text/html": [
       "<div>\n",
       "<table border=\"1\" class=\"dataframe\">\n",
       "  <thead>\n",
       "    <tr style=\"text-align: right;\">\n",
       "      <th></th>\n",
       "      <th>userid</th>\n",
       "      <th>movieid</th>\n",
       "      <th>rating</th>\n",
       "      <th>prediction</th>\n",
       "      <th>title</th>\n",
       "      <th>genre</th>\n",
       "    </tr>\n",
       "  </thead>\n",
       "  <tbody>\n",
       "    <tr>\n",
       "      <th>0</th>\n",
       "      <td>3000</td>\n",
       "      <td>590</td>\n",
       "      <td>5</td>\n",
       "      <td>3.506141</td>\n",
       "      <td>Dances with Wolves (1990)</td>\n",
       "      <td>Adventure|Drama|Western</td>\n",
       "    </tr>\n",
       "    <tr>\n",
       "      <th>1</th>\n",
       "      <td>3000</td>\n",
       "      <td>3552</td>\n",
       "      <td>5</td>\n",
       "      <td>3.434246</td>\n",
       "      <td>Caddyshack (1980)</td>\n",
       "      <td>Comedy</td>\n",
       "    </tr>\n",
       "    <tr>\n",
       "      <th>2</th>\n",
       "      <td>3000</td>\n",
       "      <td>2858</td>\n",
       "      <td>5</td>\n",
       "      <td>4.038718</td>\n",
       "      <td>American Beauty (1999)</td>\n",
       "      <td>Comedy|Drama</td>\n",
       "    </tr>\n",
       "    <tr>\n",
       "      <th>3</th>\n",
       "      <td>3000</td>\n",
       "      <td>3358</td>\n",
       "      <td>5</td>\n",
       "      <td>3.360126</td>\n",
       "      <td>Defending Your Life (1991)</td>\n",
       "      <td>Comedy|Romance</td>\n",
       "    </tr>\n",
       "    <tr>\n",
       "      <th>4</th>\n",
       "      <td>3000</td>\n",
       "      <td>2968</td>\n",
       "      <td>5</td>\n",
       "      <td>3.327013</td>\n",
       "      <td>Time Bandits (1981)</td>\n",
       "      <td>Adventure|Fantasy|Sci-Fi</td>\n",
       "    </tr>\n",
       "    <tr>\n",
       "      <th>5</th>\n",
       "      <td>3000</td>\n",
       "      <td>1307</td>\n",
       "      <td>5</td>\n",
       "      <td>3.632926</td>\n",
       "      <td>When Harry Met Sally... (1989)</td>\n",
       "      <td>Comedy|Romance</td>\n",
       "    </tr>\n",
       "    <tr>\n",
       "      <th>6</th>\n",
       "      <td>3000</td>\n",
       "      <td>144</td>\n",
       "      <td>5</td>\n",
       "      <td>3.016357</td>\n",
       "      <td>Brothers McMullen, The (1995)</td>\n",
       "      <td>Comedy</td>\n",
       "    </tr>\n",
       "    <tr>\n",
       "      <th>7</th>\n",
       "      <td>3000</td>\n",
       "      <td>1193</td>\n",
       "      <td>5</td>\n",
       "      <td>4.001684</td>\n",
       "      <td>One Flew Over the Cuckoo's Nest (1975)</td>\n",
       "      <td>Drama</td>\n",
       "    </tr>\n",
       "    <tr>\n",
       "      <th>8</th>\n",
       "      <td>3000</td>\n",
       "      <td>1265</td>\n",
       "      <td>5</td>\n",
       "      <td>3.614451</td>\n",
       "      <td>Groundhog Day (1993)</td>\n",
       "      <td>Comedy|Romance</td>\n",
       "    </tr>\n",
       "    <tr>\n",
       "      <th>9</th>\n",
       "      <td>3000</td>\n",
       "      <td>733</td>\n",
       "      <td>5</td>\n",
       "      <td>3.301279</td>\n",
       "      <td>Rock, The (1996)</td>\n",
       "      <td>Action|Adventure|Thriller</td>\n",
       "    </tr>\n",
       "  </tbody>\n",
       "</table>\n",
       "</div>"
      ],
      "text/plain": [
       "   userid  movieid  rating  prediction  \\\n",
       "0    3000      590       5    3.506141   \n",
       "1    3000     3552       5    3.434246   \n",
       "2    3000     2858       5    4.038718   \n",
       "3    3000     3358       5    3.360126   \n",
       "4    3000     2968       5    3.327013   \n",
       "5    3000     1307       5    3.632926   \n",
       "6    3000      144       5    3.016357   \n",
       "7    3000     1193       5    4.001684   \n",
       "8    3000     1265       5    3.614451   \n",
       "9    3000      733       5    3.301279   \n",
       "\n",
       "                                    title                      genre  \n",
       "0               Dances with Wolves (1990)    Adventure|Drama|Western  \n",
       "1                       Caddyshack (1980)                     Comedy  \n",
       "2                  American Beauty (1999)               Comedy|Drama  \n",
       "3              Defending Your Life (1991)             Comedy|Romance  \n",
       "4                     Time Bandits (1981)   Adventure|Fantasy|Sci-Fi  \n",
       "5          When Harry Met Sally... (1989)             Comedy|Romance  \n",
       "6           Brothers McMullen, The (1995)                     Comedy  \n",
       "7  One Flew Over the Cuckoo's Nest (1975)                      Drama  \n",
       "8                    Groundhog Day (1993)             Comedy|Romance  \n",
       "9                        Rock, The (1996)  Action|Adventure|Thriller  "
      ]
     },
     "execution_count": 10,
     "metadata": {},
     "output_type": "execute_result"
    }
   ],
   "source": [
    "user_ratings = ratings[ratings['userid'] == TEST_USER][['userid', 'movieid', 'rating']]\n",
    "user_ratings['prediction'] = user_ratings.apply(lambda x: predict_rating(TEST_USER, x['movieid']), axis=1)\n",
    "user_ratings.sort_values(by='rating', \n",
    "                         ascending=False).merge(movies, \n",
    "                                                on='movieid', \n",
    "                                                how='inner', \n",
    "                                                suffixes=['_u', '_m']).head(10)"
   ]
  },
  {
   "cell_type": "code",
   "execution_count": 11,
   "metadata": {
    "collapsed": false
   },
   "outputs": [
    {
     "data": {
      "text/html": [
       "<div>\n",
       "<table border=\"1\" class=\"dataframe\">\n",
       "  <thead>\n",
       "    <tr style=\"text-align: right;\">\n",
       "      <th></th>\n",
       "      <th>movieid</th>\n",
       "      <th>prediction</th>\n",
       "      <th>title</th>\n",
       "      <th>genre</th>\n",
       "    </tr>\n",
       "  </thead>\n",
       "  <tbody>\n",
       "    <tr>\n",
       "      <th>0</th>\n",
       "      <td>2905</td>\n",
       "      <td>4.221931</td>\n",
       "      <td>Sanjuro (1962)</td>\n",
       "      <td>Action|Adventure</td>\n",
       "    </tr>\n",
       "    <tr>\n",
       "      <th>1</th>\n",
       "      <td>745</td>\n",
       "      <td>4.123325</td>\n",
       "      <td>Close Shave, A (1995)</td>\n",
       "      <td>Animation|Comedy|Thriller</td>\n",
       "    </tr>\n",
       "    <tr>\n",
       "      <th>2</th>\n",
       "      <td>2019</td>\n",
       "      <td>4.123102</td>\n",
       "      <td>Seven Samurai (The Magnificent Seven) (Shichin...</td>\n",
       "      <td>Action|Drama</td>\n",
       "    </tr>\n",
       "    <tr>\n",
       "      <th>3</th>\n",
       "      <td>668</td>\n",
       "      <td>4.117670</td>\n",
       "      <td>Pather Panchali (1955)</td>\n",
       "      <td>Drama</td>\n",
       "    </tr>\n",
       "    <tr>\n",
       "      <th>4</th>\n",
       "      <td>2351</td>\n",
       "      <td>4.108316</td>\n",
       "      <td>Nights of Cabiria (Le Notti di Cabiria) (1957)</td>\n",
       "      <td>Drama</td>\n",
       "    </tr>\n",
       "    <tr>\n",
       "      <th>5</th>\n",
       "      <td>3022</td>\n",
       "      <td>4.104285</td>\n",
       "      <td>General, The (1927)</td>\n",
       "      <td>Comedy</td>\n",
       "    </tr>\n",
       "    <tr>\n",
       "      <th>6</th>\n",
       "      <td>1212</td>\n",
       "      <td>4.097769</td>\n",
       "      <td>Third Man, The (1949)</td>\n",
       "      <td>Mystery|Thriller</td>\n",
       "    </tr>\n",
       "    <tr>\n",
       "      <th>7</th>\n",
       "      <td>1178</td>\n",
       "      <td>4.097549</td>\n",
       "      <td>Paths of Glory (1957)</td>\n",
       "      <td>Drama|War</td>\n",
       "    </tr>\n",
       "    <tr>\n",
       "      <th>8</th>\n",
       "      <td>670</td>\n",
       "      <td>4.082615</td>\n",
       "      <td>World of Apu, The (Apur Sansar) (1959)</td>\n",
       "      <td>Drama</td>\n",
       "    </tr>\n",
       "    <tr>\n",
       "      <th>9</th>\n",
       "      <td>922</td>\n",
       "      <td>4.073469</td>\n",
       "      <td>Sunset Blvd. (a.k.a. Sunset Boulevard) (1950)</td>\n",
       "      <td>Film-Noir</td>\n",
       "    </tr>\n",
       "  </tbody>\n",
       "</table>\n",
       "</div>"
      ],
      "text/plain": [
       "   movieid  prediction                                              title  \\\n",
       "0     2905    4.221931                                     Sanjuro (1962)   \n",
       "1      745    4.123325                              Close Shave, A (1995)   \n",
       "2     2019    4.123102  Seven Samurai (The Magnificent Seven) (Shichin...   \n",
       "3      668    4.117670                             Pather Panchali (1955)   \n",
       "4     2351    4.108316     Nights of Cabiria (Le Notti di Cabiria) (1957)   \n",
       "5     3022    4.104285                                General, The (1927)   \n",
       "6     1212    4.097769                              Third Man, The (1949)   \n",
       "7     1178    4.097549                              Paths of Glory (1957)   \n",
       "8      670    4.082615             World of Apu, The (Apur Sansar) (1959)   \n",
       "9      922    4.073469      Sunset Blvd. (a.k.a. Sunset Boulevard) (1950)   \n",
       "\n",
       "                       genre  \n",
       "0           Action|Adventure  \n",
       "1  Animation|Comedy|Thriller  \n",
       "2               Action|Drama  \n",
       "3                      Drama  \n",
       "4                      Drama  \n",
       "5                     Comedy  \n",
       "6           Mystery|Thriller  \n",
       "7                  Drama|War  \n",
       "8                      Drama  \n",
       "9                  Film-Noir  "
      ]
     },
     "execution_count": 11,
     "metadata": {},
     "output_type": "execute_result"
    }
   ],
   "source": [
    "recommendations = ratings[ratings['movieid'].isin(user_ratings['movieid']) == False][['movieid']].drop_duplicates()\n",
    "recommendations['prediction'] = recommendations.apply(lambda x: predict_rating(TEST_USER, x['movieid']), axis=1)\n",
    "recommendations.sort_values(by='prediction',\n",
    "                          ascending=False).merge(movies,\n",
    "                                                 on='movieid',\n",
    "                                                 how='inner',\n",
    "                                                 suffixes=['_u', '_m']).head(10)"
   ]
  }
 ],
 "metadata": {
  "kernelspec": {
   "display_name": "Python 2",
   "language": "python",
   "name": "python2"
  },
  "language_info": {
   "codemirror_mode": {
    "name": "ipython",
    "version": 2
   },
   "file_extension": ".py",
   "mimetype": "text/x-python",
   "name": "python",
   "nbconvert_exporter": "python",
   "pygments_lexer": "ipython2",
   "version": "2.7.11"
  }
 },
 "nbformat": 4,
 "nbformat_minor": 0
}
