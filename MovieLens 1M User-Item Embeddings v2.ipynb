{
 "cells": [
  {
   "cell_type": "markdown",
   "metadata": {},
   "source": [
    "## Import packages"
   ]
  },
  {
   "cell_type": "code",
   "execution_count": 108,
   "metadata": {
    "collapsed": false
   },
   "outputs": [],
   "source": [
    "import os\n",
    "import pandas as pd\n",
    "import numpy as np\n",
    "from keras.layers import Embedding, Reshape, Merge\n",
    "from keras.models import Sequential\n",
    "from keras.optimizers import Adamax\n",
    "from keras.callbacks import EarlyStopping, ModelCheckpoint\n",
    "from CFModel import CFModel"
   ]
  },
  {
   "cell_type": "markdown",
   "metadata": {},
   "source": [
    "## Define constants\n"
   ]
  },
  {
   "cell_type": "code",
   "execution_count": 92,
   "metadata": {
    "collapsed": true
   },
   "outputs": [],
   "source": [
    "BASE_DIR = '.' # Modify this if needed to the local directory that the MovieLens 1M Dataset has been unzipped into. \n",
    "MOVIELENS_DIR = BASE_DIR + '/ml-1m/'\n",
    "USER_FILE = 'users.dat'\n",
    "MOVIE_FILE = 'movies.dat'\n",
    "RATING_FILE = 'ratings.dat'\n",
    "K_FACTORS = 20\n",
    "RNG_SEED = 1446557\n",
    "TEST_USER = 3000\n",
    "AGES = { 1: \"Under 18\", 18: \"18-24\", 25: \"25-34\", 35: \"35-44\", 45: \"45-49\", 50: \"50-55\", 56: \"56+\" }\n",
    "OCCUPATIONS = { 0: \"other or not specified\", 1: \"academic/educator\", 2: \"artist\", 3: \"clerical/admin\",\n",
    "                4: \"college/grad student\", 5: \"customer service\", 6: \"doctor/health care\",\n",
    "                7: \"executive/managerial\", 8: \"farmer\", 9: \"homemaker\", 10: \"K-12 student\", 11: \"lawyer\",\n",
    "                12: \"programmer\", 13: \"retired\", 14: \"sales/marketing\", 15: \"scientist\", 16: \"self-employed\",\n",
    "                17: \"technician/engineer\", 18: \"tradesman/craftsman\", 19: \"unemployed\", 20: \"writer\" }"
   ]
  },
  {
   "cell_type": "markdown",
   "metadata": {},
   "source": [
    "## Load MovieLens 1M data\n",
    "\n",
    "The MovieLens 1M Dataset can be downloaded from http://files.grouplens.org/datasets/movielens/ml-1m.zip. We load the data about users, movies and ratings into dataframes. \n",
    "\n",
    "A few quirks in this dataset:\n",
    "\n",
    "* The ids for users and movies are 1-based,\n",
    "* not all movies have descriptions, and \n",
    "* not all movies are rated. \n",
    "\n",
    "To make it easy to simply use series from the ratings dataframe as training inputs and output to the Keras model, we do the following:\n",
    "\n",
    "* We set max_userid to the maximum user id in the ratings,\n",
    "* we set max_movieid to the maximum movie id in the ratings, and\n",
    "* we add columns (user_emb_id and movie_emb_id) whose values are the user or movie ids minus one."
   ]
  },
  {
   "cell_type": "code",
   "execution_count": 93,
   "metadata": {
    "collapsed": false
   },
   "outputs": [
    {
     "name": "stdout",
     "output_type": "stream",
     "text": [
      "1000209 ratings loaded.\n"
     ]
    }
   ],
   "source": [
    "ratings = pd.read_csv(os.path.join(MOVIELENS_DIR, RATING_FILE), \n",
    "                    sep='::', \n",
    "                    engine='python', \n",
    "                    names=['userid', 'movieid', 'rating', 'timestamp'])\n",
    "max_userid = ratings['userid'].drop_duplicates().max()\n",
    "max_movieid = ratings['movieid'].drop_duplicates().max()\n",
    "ratings['user_emb_id'] = ratings['userid'] - 1\n",
    "ratings['movie_emb_id'] = ratings['movieid'] - 1\n",
    "print len(ratings), 'ratings loaded.'"
   ]
  },
  {
   "cell_type": "code",
   "execution_count": 94,
   "metadata": {
    "collapsed": false
   },
   "outputs": [
    {
     "name": "stdout",
     "output_type": "stream",
     "text": [
      "6040 descriptions of 6040 users loaded.\n"
     ]
    }
   ],
   "source": [
    "users = pd.read_csv(os.path.join(MOVIELENS_DIR, USER_FILE), \n",
    "                    sep='::', \n",
    "                    engine='python', \n",
    "                    names=['userid', 'gender', 'age', 'occupation', 'zipcode'])\n",
    "users['age_desc'] = users['age'].apply(lambda x: AGES[x])\n",
    "users['occ_desc'] = users['occupation'].apply(lambda x: OCCUPATIONS[x])\n",
    "print len(users), 'descriptions of', max_userid, 'users loaded.'"
   ]
  },
  {
   "cell_type": "code",
   "execution_count": 95,
   "metadata": {
    "collapsed": false
   },
   "outputs": [
    {
     "name": "stdout",
     "output_type": "stream",
     "text": [
      "3883 descriptions of 3952 movies loaded.\n"
     ]
    }
   ],
   "source": [
    "movies = pd.read_csv(os.path.join(MOVIELENS_DIR, MOVIE_FILE), \n",
    "                    sep='::', \n",
    "                    engine='python', \n",
    "                    names=['movieid', 'title', 'genre'])\n",
    "print len(movies), 'descriptions of', max_movieid, 'movies loaded.'"
   ]
  },
  {
   "cell_type": "code",
   "execution_count": 96,
   "metadata": {
    "collapsed": false
   },
   "outputs": [
    {
     "name": "stdout",
     "output_type": "stream",
     "text": [
      "6040 of the 6040 users rate at least one movie.\n"
     ]
    }
   ],
   "source": [
    "print len(ratings['userid'].drop_duplicates()), 'of the', max_userid, 'users rate at least one movie.'"
   ]
  },
  {
   "cell_type": "code",
   "execution_count": 97,
   "metadata": {
    "collapsed": false
   },
   "outputs": [
    {
     "name": "stdout",
     "output_type": "stream",
     "text": [
      "3706 of the 3952 movies are rated.\n"
     ]
    }
   ],
   "source": [
    "print len(ratings['movieid'].drop_duplicates()), 'of the', max_movieid, 'movies are rated.'"
   ]
  },
  {
   "cell_type": "markdown",
   "metadata": {},
   "source": [
    "## Create training set"
   ]
  },
  {
   "cell_type": "code",
   "execution_count": 98,
   "metadata": {
    "collapsed": false
   },
   "outputs": [
    {
     "name": "stdout",
     "output_type": "stream",
     "text": [
      "Users: [4403 1819 2571 ...,  354 3510  831] , shape = (1000209,)\n",
      "Movies: [2717 3692  149 ..., 2700 2920 3711] , shape = (1000209,)\n",
      "Ratings: [5 4 4 ..., 2 4 4] , shape = (1000209,)\n"
     ]
    }
   ],
   "source": [
    "shuffled_ratings = ratings.sample(frac=1., random_state=RNG_SEED)\n",
    "Users = shuffled_ratings['user_emb_id'].values\n",
    "print 'Users:', Users, ', shape =', Users.shape\n",
    "Movies = shuffled_ratings['movie_emb_id'].values\n",
    "print 'Movies:', Movies, ', shape =', Movies.shape\n",
    "Ratings = shuffled_ratings['rating'].values\n",
    "print 'Ratings:', Ratings, ', shape =', Ratings.shape"
   ]
  },
  {
   "cell_type": "markdown",
   "metadata": {},
   "source": [
    "## Define model"
   ]
  },
  {
   "cell_type": "code",
   "execution_count": 9,
   "metadata": {
    "collapsed": false
   },
   "outputs": [],
   "source": [
    "model = CFModel(max_userid, max_movieid, K_FACTORS)"
   ]
  },
  {
   "cell_type": "markdown",
   "metadata": {},
   "source": [
    "## Train model"
   ]
  },
  {
   "cell_type": "code",
   "execution_count": 10,
   "metadata": {
    "collapsed": false,
    "scrolled": false
   },
   "outputs": [
    {
     "name": "stdout",
     "output_type": "stream",
     "text": [
      "Train on 900188 samples, validate on 100021 samples\n",
      "Epoch 1/15\n",
      "574s - loss: 10.8678 - val_loss: 5.1730\n",
      "Epoch 2/15\n",
      "626s - loss: 3.1265 - val_loss: 2.0450\n",
      "Epoch 3/15\n",
      "607s - loss: 1.6241 - val_loss: 1.3690\n",
      "Epoch 4/15\n",
      "610s - loss: 1.2147 - val_loss: 1.1233\n",
      "Epoch 5/15\n",
      "608s - loss: 1.0466 - val_loss: 1.0085\n",
      "Epoch 6/15\n",
      "620s - loss: 0.9642 - val_loss: 0.9483\n",
      "Epoch 7/15\n",
      "621s - loss: 0.9191 - val_loss: 0.9148\n",
      "Epoch 8/15\n",
      "617s - loss: 0.8930 - val_loss: 0.8943\n",
      "Epoch 9/15\n",
      "610s - loss: 0.8765 - val_loss: 0.8805\n",
      "Epoch 10/15\n",
      "643s - loss: 0.8658 - val_loss: 0.8719\n",
      "Epoch 11/15\n",
      "767s - loss: 0.8580 - val_loss: 0.8667\n",
      "Epoch 12/15\n",
      "641s - loss: 0.8525 - val_loss: 0.8602\n",
      "Epoch 13/15\n",
      "628s - loss: 0.8475 - val_loss: 0.8556\n",
      "Epoch 14/15\n",
      "626s - loss: 0.8431 - val_loss: 0.8528\n",
      "Epoch 15/15\n",
      "621s - loss: 0.8388 - val_loss: 0.8482\n"
     ]
    },
    {
     "data": {
      "text/plain": [
       "<keras.callbacks.History at 0x1143d9850>"
      ]
     },
     "execution_count": 10,
     "metadata": {},
     "output_type": "execute_result"
    }
   ],
   "source": [
    "callbacks = [EarlyStopping('val_loss', patience=2), ModelCheckpoint('movie_weights.h5', save_best_only=True)]\n",
    "model.fit([Users, Movies], Ratings, nb_epoch=15, validation_split=.1, verbose=2, callbacks=callbacks)"
   ]
  },
  {
   "cell_type": "markdown",
   "metadata": {},
   "source": [
    "## Use model to make recommendations for a given user"
   ]
  },
  {
   "cell_type": "code",
   "execution_count": 109,
   "metadata": {
    "collapsed": true
   },
   "outputs": [],
   "source": [
    "trained_model = CFModel(max_userid, max_movieid, K_FACTORS)"
   ]
  },
  {
   "cell_type": "code",
   "execution_count": 112,
   "metadata": {
    "collapsed": true
   },
   "outputs": [],
   "source": [
    "trained_model.load_weights('movie_weights.h5')"
   ]
  },
  {
   "cell_type": "code",
   "execution_count": 113,
   "metadata": {
    "collapsed": false
   },
   "outputs": [
    {
     "data": {
      "text/html": [
       "<div>\n",
       "<table border=\"1\" class=\"dataframe\">\n",
       "  <thead>\n",
       "    <tr style=\"text-align: right;\">\n",
       "      <th></th>\n",
       "      <th>userid</th>\n",
       "      <th>gender</th>\n",
       "      <th>age_desc</th>\n",
       "      <th>occ_desc</th>\n",
       "      <th>zipcode</th>\n",
       "    </tr>\n",
       "  </thead>\n",
       "  <tbody>\n",
       "    <tr>\n",
       "      <th>2999</th>\n",
       "      <td>3000</td>\n",
       "      <td>M</td>\n",
       "      <td>25-34</td>\n",
       "      <td>college/grad student</td>\n",
       "      <td>55408</td>\n",
       "    </tr>\n",
       "  </tbody>\n",
       "</table>\n",
       "</div>"
      ],
      "text/plain": [
       "      userid gender age_desc              occ_desc zipcode\n",
       "2999    3000      M    25-34  college/grad student   55408"
      ]
     },
     "execution_count": 113,
     "metadata": {},
     "output_type": "execute_result"
    }
   ],
   "source": [
    "users[users['userid'] == TEST_USER][['userid', 'gender', 'age_desc', 'occ_desc', 'zipcode']]"
   ]
  },
  {
   "cell_type": "code",
   "execution_count": 118,
   "metadata": {
    "collapsed": true
   },
   "outputs": [],
   "source": [
    "def predict_rating(userid, movieid):\n",
    "    return trained_model.rate(userid - 1, movieid - 1)"
   ]
  },
  {
   "cell_type": "code",
   "execution_count": 119,
   "metadata": {
    "collapsed": false
   },
   "outputs": [
    {
     "data": {
      "text/html": [
       "<div>\n",
       "<table border=\"1\" class=\"dataframe\">\n",
       "  <thead>\n",
       "    <tr style=\"text-align: right;\">\n",
       "      <th></th>\n",
       "      <th>userid</th>\n",
       "      <th>movieid</th>\n",
       "      <th>rating</th>\n",
       "      <th>prediction</th>\n",
       "      <th>title</th>\n",
       "      <th>genre</th>\n",
       "    </tr>\n",
       "  </thead>\n",
       "  <tbody>\n",
       "    <tr>\n",
       "      <th>0</th>\n",
       "      <td>3000</td>\n",
       "      <td>590</td>\n",
       "      <td>5</td>\n",
       "      <td>3.532443</td>\n",
       "      <td>Dances with Wolves (1990)</td>\n",
       "      <td>Adventure|Drama|Western</td>\n",
       "    </tr>\n",
       "    <tr>\n",
       "      <th>1</th>\n",
       "      <td>3000</td>\n",
       "      <td>3552</td>\n",
       "      <td>5</td>\n",
       "      <td>3.498902</td>\n",
       "      <td>Caddyshack (1980)</td>\n",
       "      <td>Comedy</td>\n",
       "    </tr>\n",
       "    <tr>\n",
       "      <th>2</th>\n",
       "      <td>3000</td>\n",
       "      <td>2858</td>\n",
       "      <td>5</td>\n",
       "      <td>3.899310</td>\n",
       "      <td>American Beauty (1999)</td>\n",
       "      <td>Comedy|Drama</td>\n",
       "    </tr>\n",
       "    <tr>\n",
       "      <th>3</th>\n",
       "      <td>3000</td>\n",
       "      <td>3358</td>\n",
       "      <td>5</td>\n",
       "      <td>3.384240</td>\n",
       "      <td>Defending Your Life (1991)</td>\n",
       "      <td>Comedy|Romance</td>\n",
       "    </tr>\n",
       "    <tr>\n",
       "      <th>4</th>\n",
       "      <td>3000</td>\n",
       "      <td>2968</td>\n",
       "      <td>5</td>\n",
       "      <td>3.309658</td>\n",
       "      <td>Time Bandits (1981)</td>\n",
       "      <td>Adventure|Fantasy|Sci-Fi</td>\n",
       "    </tr>\n",
       "    <tr>\n",
       "      <th>5</th>\n",
       "      <td>3000</td>\n",
       "      <td>1307</td>\n",
       "      <td>5</td>\n",
       "      <td>3.673921</td>\n",
       "      <td>When Harry Met Sally... (1989)</td>\n",
       "      <td>Comedy|Romance</td>\n",
       "    </tr>\n",
       "    <tr>\n",
       "      <th>6</th>\n",
       "      <td>3000</td>\n",
       "      <td>144</td>\n",
       "      <td>5</td>\n",
       "      <td>3.133694</td>\n",
       "      <td>Brothers McMullen, The (1995)</td>\n",
       "      <td>Comedy</td>\n",
       "    </tr>\n",
       "    <tr>\n",
       "      <th>7</th>\n",
       "      <td>3000</td>\n",
       "      <td>1193</td>\n",
       "      <td>5</td>\n",
       "      <td>3.899977</td>\n",
       "      <td>One Flew Over the Cuckoo's Nest (1975)</td>\n",
       "      <td>Drama</td>\n",
       "    </tr>\n",
       "    <tr>\n",
       "      <th>8</th>\n",
       "      <td>3000</td>\n",
       "      <td>1265</td>\n",
       "      <td>5</td>\n",
       "      <td>3.566049</td>\n",
       "      <td>Groundhog Day (1993)</td>\n",
       "      <td>Comedy|Romance</td>\n",
       "    </tr>\n",
       "    <tr>\n",
       "      <th>9</th>\n",
       "      <td>3000</td>\n",
       "      <td>733</td>\n",
       "      <td>5</td>\n",
       "      <td>3.250357</td>\n",
       "      <td>Rock, The (1996)</td>\n",
       "      <td>Action|Adventure|Thriller</td>\n",
       "    </tr>\n",
       "  </tbody>\n",
       "</table>\n",
       "</div>"
      ],
      "text/plain": [
       "   userid  movieid  rating  prediction  \\\n",
       "0    3000      590       5    3.532443   \n",
       "1    3000     3552       5    3.498902   \n",
       "2    3000     2858       5    3.899310   \n",
       "3    3000     3358       5    3.384240   \n",
       "4    3000     2968       5    3.309658   \n",
       "5    3000     1307       5    3.673921   \n",
       "6    3000      144       5    3.133694   \n",
       "7    3000     1193       5    3.899977   \n",
       "8    3000     1265       5    3.566049   \n",
       "9    3000      733       5    3.250357   \n",
       "\n",
       "                                    title                      genre  \n",
       "0               Dances with Wolves (1990)    Adventure|Drama|Western  \n",
       "1                       Caddyshack (1980)                     Comedy  \n",
       "2                  American Beauty (1999)               Comedy|Drama  \n",
       "3              Defending Your Life (1991)             Comedy|Romance  \n",
       "4                     Time Bandits (1981)   Adventure|Fantasy|Sci-Fi  \n",
       "5          When Harry Met Sally... (1989)             Comedy|Romance  \n",
       "6           Brothers McMullen, The (1995)                     Comedy  \n",
       "7  One Flew Over the Cuckoo's Nest (1975)                      Drama  \n",
       "8                    Groundhog Day (1993)             Comedy|Romance  \n",
       "9                        Rock, The (1996)  Action|Adventure|Thriller  "
      ]
     },
     "execution_count": 119,
     "metadata": {},
     "output_type": "execute_result"
    }
   ],
   "source": [
    "user_ratings = ratings[ratings['userid'] == TEST_USER][['userid', 'movieid', 'rating']]\n",
    "user_ratings['prediction'] = user_ratings.apply(lambda x: predict_rating(TEST_USER, x['movieid']), axis=1)\n",
    "user_ratings.sort_values(by='rating', \n",
    "                         ascending=False).merge(movies, \n",
    "                                                on='movieid', \n",
    "                                                how='inner', \n",
    "                                                suffixes=['_u', '_m']).head(10)"
   ]
  },
  {
   "cell_type": "code",
   "execution_count": 120,
   "metadata": {
    "collapsed": false
   },
   "outputs": [
    {
     "data": {
      "text/html": [
       "<div>\n",
       "<table border=\"1\" class=\"dataframe\">\n",
       "  <thead>\n",
       "    <tr style=\"text-align: right;\">\n",
       "      <th></th>\n",
       "      <th>movieid</th>\n",
       "      <th>prediction</th>\n",
       "      <th>title</th>\n",
       "      <th>genre</th>\n",
       "    </tr>\n",
       "  </thead>\n",
       "  <tbody>\n",
       "    <tr>\n",
       "      <th>0</th>\n",
       "      <td>2905</td>\n",
       "      <td>4.133867</td>\n",
       "      <td>Sanjuro (1962)</td>\n",
       "      <td>Action|Adventure</td>\n",
       "    </tr>\n",
       "    <tr>\n",
       "      <th>1</th>\n",
       "      <td>318</td>\n",
       "      <td>4.098945</td>\n",
       "      <td>Shawshank Redemption, The (1994)</td>\n",
       "      <td>Drama</td>\n",
       "    </tr>\n",
       "    <tr>\n",
       "      <th>2</th>\n",
       "      <td>858</td>\n",
       "      <td>4.086760</td>\n",
       "      <td>Godfather, The (1972)</td>\n",
       "      <td>Action|Crime|Drama</td>\n",
       "    </tr>\n",
       "    <tr>\n",
       "      <th>3</th>\n",
       "      <td>668</td>\n",
       "      <td>4.066997</td>\n",
       "      <td>Pather Panchali (1955)</td>\n",
       "      <td>Drama</td>\n",
       "    </tr>\n",
       "    <tr>\n",
       "      <th>4</th>\n",
       "      <td>3022</td>\n",
       "      <td>4.058833</td>\n",
       "      <td>General, The (1927)</td>\n",
       "      <td>Comedy</td>\n",
       "    </tr>\n",
       "    <tr>\n",
       "      <th>5</th>\n",
       "      <td>3030</td>\n",
       "      <td>4.055278</td>\n",
       "      <td>Yojimbo (1961)</td>\n",
       "      <td>Comedy|Drama|Western</td>\n",
       "    </tr>\n",
       "    <tr>\n",
       "      <th>6</th>\n",
       "      <td>1178</td>\n",
       "      <td>4.045434</td>\n",
       "      <td>Paths of Glory (1957)</td>\n",
       "      <td>Drama|War</td>\n",
       "    </tr>\n",
       "    <tr>\n",
       "      <th>7</th>\n",
       "      <td>922</td>\n",
       "      <td>4.045026</td>\n",
       "      <td>Sunset Blvd. (a.k.a. Sunset Boulevard) (1950)</td>\n",
       "      <td>Film-Noir</td>\n",
       "    </tr>\n",
       "    <tr>\n",
       "      <th>8</th>\n",
       "      <td>1148</td>\n",
       "      <td>4.041310</td>\n",
       "      <td>Wrong Trousers, The (1993)</td>\n",
       "      <td>Animation|Comedy</td>\n",
       "    </tr>\n",
       "    <tr>\n",
       "      <th>9</th>\n",
       "      <td>50</td>\n",
       "      <td>4.040413</td>\n",
       "      <td>Usual Suspects, The (1995)</td>\n",
       "      <td>Crime|Thriller</td>\n",
       "    </tr>\n",
       "  </tbody>\n",
       "</table>\n",
       "</div>"
      ],
      "text/plain": [
       "   movieid  prediction                                          title  \\\n",
       "0     2905    4.133867                                 Sanjuro (1962)   \n",
       "1      318    4.098945               Shawshank Redemption, The (1994)   \n",
       "2      858    4.086760                          Godfather, The (1972)   \n",
       "3      668    4.066997                         Pather Panchali (1955)   \n",
       "4     3022    4.058833                            General, The (1927)   \n",
       "5     3030    4.055278                                 Yojimbo (1961)   \n",
       "6     1178    4.045434                          Paths of Glory (1957)   \n",
       "7      922    4.045026  Sunset Blvd. (a.k.a. Sunset Boulevard) (1950)   \n",
       "8     1148    4.041310                     Wrong Trousers, The (1993)   \n",
       "9       50    4.040413                     Usual Suspects, The (1995)   \n",
       "\n",
       "                  genre  \n",
       "0      Action|Adventure  \n",
       "1                 Drama  \n",
       "2    Action|Crime|Drama  \n",
       "3                 Drama  \n",
       "4                Comedy  \n",
       "5  Comedy|Drama|Western  \n",
       "6             Drama|War  \n",
       "7             Film-Noir  \n",
       "8      Animation|Comedy  \n",
       "9        Crime|Thriller  "
      ]
     },
     "execution_count": 120,
     "metadata": {},
     "output_type": "execute_result"
    }
   ],
   "source": [
    "recommendations = ratings[ratings['movieid'].isin(user_ratings['movieid']) == False][['movieid']].drop_duplicates()\n",
    "recommendations['prediction'] = recommendations.apply(lambda x: predict_rating(TEST_USER, x['movieid']), axis=1)\n",
    "recommendations.sort_values(by='prediction',\n",
    "                          ascending=False).merge(movies,\n",
    "                                                 on='movieid',\n",
    "                                                 how='inner',\n",
    "                                                 suffixes=['_u', '_m']).head(10)"
   ]
  },
  {
   "cell_type": "code",
   "execution_count": null,
   "metadata": {
    "collapsed": true
   },
   "outputs": [],
   "source": []
  },
  {
   "cell_type": "code",
   "execution_count": null,
   "metadata": {
    "collapsed": true
   },
   "outputs": [],
   "source": []
  }
 ],
 "metadata": {
  "kernelspec": {
   "display_name": "Python 2",
   "language": "python",
   "name": "python2"
  },
  "language_info": {
   "codemirror_mode": {
    "name": "ipython",
    "version": 2
   },
   "file_extension": ".py",
   "mimetype": "text/x-python",
   "name": "python",
   "nbconvert_exporter": "python",
   "pygments_lexer": "ipython2",
   "version": "2.7.11"
  }
 },
 "nbformat": 4,
 "nbformat_minor": 0
}
