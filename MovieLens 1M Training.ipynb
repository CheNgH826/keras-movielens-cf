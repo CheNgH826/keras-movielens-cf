{
 "cells": [
  {
   "cell_type": "markdown",
   "metadata": {},
   "source": [
    "## Import packages"
   ]
  },
  {
   "cell_type": "code",
   "execution_count": 1,
   "metadata": {
    "collapsed": false
   },
   "outputs": [
    {
     "name": "stderr",
     "output_type": "stream",
     "text": [
      "Using Theano backend.\n",
      "Using gpu device 0: GRID K520 (CNMeM is disabled, cuDNN 5006)\n"
     ]
    }
   ],
   "source": [
    "import pandas as pd\n",
    "from keras.callbacks import EarlyStopping, ModelCheckpoint\n",
    "from CFModel import CFModel"
   ]
  },
  {
   "cell_type": "markdown",
   "metadata": {},
   "source": [
    "## Define constants\n"
   ]
  },
  {
   "cell_type": "code",
   "execution_count": 12,
   "metadata": {
    "collapsed": true
   },
   "outputs": [],
   "source": [
    "RATINGS_CSV_FILE = 'ml1m_ratings.csv'\n",
    "MODEL_WEIGHTS_FILE = 'ml1m_weights.h5'\n",
    "K_FACTORS = 120\n",
    "RNG_SEED = 1446557"
   ]
  },
  {
   "cell_type": "markdown",
   "metadata": {},
   "source": [
    "## Load MovieLens 1M data"
   ]
  },
  {
   "cell_type": "code",
   "execution_count": 3,
   "metadata": {
    "collapsed": false
   },
   "outputs": [
    {
     "name": "stdout",
     "output_type": "stream",
     "text": [
      "1000209 ratings loaded.\n"
     ]
    }
   ],
   "source": [
    "ratings = pd.read_csv(RATINGS_CSV_FILE, \n",
    "                      sep='\\t', \n",
    "                      encoding='latin-1', \n",
    "                      usecols=['userid', 'movieid', 'user_emb_id', 'movie_emb_id', 'rating'])\n",
    "max_userid = ratings['userid'].drop_duplicates().max()\n",
    "max_movieid = ratings['movieid'].drop_duplicates().max()\n",
    "print len(ratings), 'ratings loaded.'"
   ]
  },
  {
   "cell_type": "markdown",
   "metadata": {},
   "source": [
    "## Create training set"
   ]
  },
  {
   "cell_type": "code",
   "execution_count": 4,
   "metadata": {
    "collapsed": false
   },
   "outputs": [
    {
     "name": "stdout",
     "output_type": "stream",
     "text": [
      "Users: [4403 1819 2571 ...,  354 3510  831] , shape = (1000209,)\n",
      "Movies: [2717 3692  149 ..., 2700 2920 3711] , shape = (1000209,)\n",
      "Ratings: [5 4 4 ..., 2 4 4] , shape = (1000209,)\n"
     ]
    }
   ],
   "source": [
    "shuffled_ratings = ratings.sample(frac=1., random_state=RNG_SEED)\n",
    "Users = shuffled_ratings['user_emb_id'].values\n",
    "print 'Users:', Users, ', shape =', Users.shape\n",
    "Movies = shuffled_ratings['movie_emb_id'].values\n",
    "print 'Movies:', Movies, ', shape =', Movies.shape\n",
    "Ratings = shuffled_ratings['rating'].values\n",
    "print 'Ratings:', Ratings, ', shape =', Ratings.shape"
   ]
  },
  {
   "cell_type": "markdown",
   "metadata": {},
   "source": [
    "## Define model"
   ]
  },
  {
   "cell_type": "code",
   "execution_count": 13,
   "metadata": {
    "collapsed": false
   },
   "outputs": [],
   "source": [
    "model = CFModel(max_userid, max_movieid, K_FACTORS)\n",
    "model.compile(loss='mse', optimizer='adamax')"
   ]
  },
  {
   "cell_type": "markdown",
   "metadata": {},
   "source": [
    "## Train model"
   ]
  },
  {
   "cell_type": "code",
   "execution_count": 14,
   "metadata": {
    "collapsed": false,
    "scrolled": false
   },
   "outputs": [
    {
     "name": "stdout",
     "output_type": "stream",
     "text": [
      "Train on 900188 samples, validate on 100021 samples\n",
      "Epoch 1/30\n",
      "71s - loss: 8.0224 - val_loss: 2.1092\n",
      "Epoch 2/30\n",
      "71s - loss: 1.3997 - val_loss: 1.0811\n",
      "Epoch 3/30\n",
      "72s - loss: 0.9686 - val_loss: 0.9162\n",
      "Epoch 4/30\n",
      "72s - loss: 0.8678 - val_loss: 0.8583\n",
      "Epoch 5/30\n",
      "72s - loss: 0.8210 - val_loss: 0.8273\n",
      "Epoch 6/30\n",
      "72s - loss: 0.7894 - val_loss: 0.8067\n",
      "Epoch 7/30\n",
      "71s - loss: 0.7638 - val_loss: 0.7914\n",
      "Epoch 8/30\n",
      "71s - loss: 0.7405 - val_loss: 0.7802\n",
      "Epoch 9/30\n",
      "72s - loss: 0.7182 - val_loss: 0.7707\n",
      "Epoch 10/30\n",
      "72s - loss: 0.6958 - val_loss: 0.7605\n",
      "Epoch 11/30\n",
      "71s - loss: 0.6729 - val_loss: 0.7536\n",
      "Epoch 12/30\n",
      "70s - loss: 0.6493 - val_loss: 0.7496\n",
      "Epoch 13/30\n",
      "70s - loss: 0.6252 - val_loss: 0.7457\n",
      "Epoch 14/30\n",
      "70s - loss: 0.6009 - val_loss: 0.7435\n",
      "Epoch 15/30\n",
      "70s - loss: 0.5764 - val_loss: 0.7436\n",
      "Epoch 16/30\n",
      "70s - loss: 0.5521 - val_loss: 0.7465\n",
      "Epoch 17/30\n",
      "70s - loss: 0.5283 - val_loss: 0.7487\n"
     ]
    },
    {
     "data": {
      "text/plain": [
       "<keras.callbacks.History at 0x7f039398d5d0>"
      ]
     },
     "execution_count": 14,
     "metadata": {},
     "output_type": "execute_result"
    }
   ],
   "source": [
    "callbacks = [EarlyStopping('val_loss', patience=2), \n",
    "             ModelCheckpoint(MODEL_WEIGHTS_FILE, save_best_only=True)]\n",
    "model.fit([Users, Movies], Ratings, nb_epoch=30, validation_split=.1, verbose=2, callbacks=callbacks)"
   ]
  },
  {
   "cell_type": "code",
   "execution_count": 15,
   "metadata": {
    "collapsed": false
   },
   "outputs": [
    {
     "name": "stdout",
     "output_type": "stream",
     "text": [
      "RMSE at Epoch 15 = 0.8623\n"
     ]
    }
   ],
   "source": [
    "import math\n",
    "print 'RMSE at Epoch 15 =', '{:.4f}'.format(math.sqrt(0.7435))"
   ]
  },
  {
   "cell_type": "code",
   "execution_count": 37,
   "metadata": {
    "collapsed": false
   },
   "outputs": [],
   "source": [
    "loss = pd.DataFrame({'epoch': [1,2,3,4,5,6,7,8,9,10,11,12,13,14,15,16,17],\n",
    " 'training': [8.0224,1.3997,0.9686,0.8678,0.8210,0.7894,0.7638,0.7405,0.7182,0.6958,0.6729,0.6493,0.6252,0.6009,0.5764,0.5521,0.5283],\n",
    " 'validation': [2.1092,1.0811,0.9162,0.8583,0.8273,0.8067,0.7914,0.7802,0.7707,0.7605,0.7536,0.7496,0.7457,0.7435,0.7436,0.7465,0.7487]})"
   ]
  },
  {
   "cell_type": "code",
   "execution_count": 38,
   "metadata": {
    "collapsed": false
   },
   "outputs": [
    {
     "data": {
      "text/plain": [
       "<matplotlib.axes._subplots.AxesSubplot at 0x7f038cbc2550>"
      ]
     },
     "execution_count": 38,
     "metadata": {},
     "output_type": "execute_result"
    },
    {
     "data": {
      "text/plain": [
       "<matplotlib.figure.Figure at 0x7f038ccd4e10>"
      ]
     },
     "metadata": {},
     "output_type": "display_data"
    },
    {
     "data": {
      "image/png": "[encoded data removed]",
      "text/plain": [
       "<matplotlib.figure.Figure at 0x7f038cb0a4d0>"
      ]
     },
     "metadata": {},
     "output_type": "display_data"
    }
   ],
   "source": [
    "%matplotlib inline\n",
    "import matplotlib.pyplot as plt\n",
    "plt.figure()\n",
    "loss.ix[:,:].plot(x='epoch')"
   ]
  }
 ],
 "metadata": {
  "kernelspec": {
   "display_name": "Python 2",
   "language": "python",
   "name": "python2"
  },
  "language_info": {
   "codemirror_mode": {
    "name": "ipython",
    "version": 2
   },
   "file_extension": ".py",
   "mimetype": "text/x-python",
   "name": "python",
   "nbconvert_exporter": "python",
   "pygments_lexer": "ipython2",
   "version": "2.7.6"
  }
 },
 "nbformat": 4,
 "nbformat_minor": 0
}
