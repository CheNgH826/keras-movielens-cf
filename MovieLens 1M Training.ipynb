{
 "cells": [
  {
   "cell_type": "markdown",
   "metadata": {},
   "source": [
    "## Import packages"
   ]
  },
  {
   "cell_type": "code",
   "execution_count": 1,
   "metadata": {
    "collapsed": false
   },
   "outputs": [
    {
     "name": "stderr",
     "output_type": "stream",
     "text": [
      "Using Theano backend.\n"
     ]
    }
   ],
   "source": [
    "import pandas as pd\n",
    "from keras.callbacks import EarlyStopping, ModelCheckpoint\n",
    "from CFModel import CFModel"
   ]
  },
  {
   "cell_type": "markdown",
   "metadata": {},
   "source": [
    "## Define constants\n"
   ]
  },
  {
   "cell_type": "code",
   "execution_count": 2,
   "metadata": {
    "collapsed": true
   },
   "outputs": [],
   "source": [
    "RATINGS_CSV_FILE = 'ml1m_ratings.csv'\n",
    "MODEL_WEIGHTS_FILE = 'ml1m_weights.h5'\n",
    "K_FACTORS = 20\n",
    "RNG_SEED = 1446557"
   ]
  },
  {
   "cell_type": "markdown",
   "metadata": {},
   "source": [
    "## Load MovieLens 1M data"
   ]
  },
  {
   "cell_type": "code",
   "execution_count": 3,
   "metadata": {
    "collapsed": false
   },
   "outputs": [
    {
     "name": "stdout",
     "output_type": "stream",
     "text": [
      "1000209 ratings loaded.\n"
     ]
    }
   ],
   "source": [
    "ratings = pd.read_csv(RATINGS_CSV_FILE, \n",
    "                      sep='\\t', \n",
    "                      encoding='latin-1', \n",
    "                      usecols=['userid', 'movieid', 'user_emb_id', 'movie_emb_id', 'rating'])\n",
    "max_userid = ratings['userid'].drop_duplicates().max()\n",
    "max_movieid = ratings['movieid'].drop_duplicates().max()\n",
    "print len(ratings), 'ratings loaded.'"
   ]
  },
  {
   "cell_type": "markdown",
   "metadata": {},
   "source": [
    "## Create training set"
   ]
  },
  {
   "cell_type": "code",
   "execution_count": 4,
   "metadata": {
    "collapsed": false
   },
   "outputs": [
    {
     "name": "stdout",
     "output_type": "stream",
     "text": [
      "Users: [4403 1819 2571 ...,  354 3510  831] , shape = (1000209,)\n",
      "Movies: [2717 3692  149 ..., 2700 2920 3711] , shape = (1000209,)\n",
      "Ratings: [5 4 4 ..., 2 4 4] , shape = (1000209,)\n"
     ]
    }
   ],
   "source": [
    "shuffled_ratings = ratings.sample(frac=1., random_state=RNG_SEED)\n",
    "Users = shuffled_ratings['user_emb_id'].values\n",
    "print 'Users:', Users, ', shape =', Users.shape\n",
    "Movies = shuffled_ratings['movie_emb_id'].values\n",
    "print 'Movies:', Movies, ', shape =', Movies.shape\n",
    "Ratings = shuffled_ratings['rating'].values\n",
    "print 'Ratings:', Ratings, ', shape =', Ratings.shape"
   ]
  },
  {
   "cell_type": "markdown",
   "metadata": {},
   "source": [
    "## Define model"
   ]
  },
  {
   "cell_type": "code",
   "execution_count": 5,
   "metadata": {
    "collapsed": false
   },
   "outputs": [],
   "source": [
    "model = CFModel(max_userid, max_movieid, K_FACTORS)\n",
    "model.compile(loss='mse', optimizer='adamax')"
   ]
  },
  {
   "cell_type": "markdown",
   "metadata": {},
   "source": [
    "## Train model"
   ]
  },
  {
   "cell_type": "code",
   "execution_count": 6,
   "metadata": {
    "collapsed": false,
    "scrolled": false
   },
   "outputs": [
    {
     "name": "stdout",
     "output_type": "stream",
     "text": [
      "Train on 900188 samples, validate on 100021 samples\n",
      "Epoch 1/15\n",
      "603s - loss: 11.2485 - val_loss: 5.5647\n",
      "Epoch 2/15\n",
      "615s - loss: 3.3028 - val_loss: 2.1138\n",
      "Epoch 3/15\n",
      "606s - loss: 1.6632 - val_loss: 1.3914\n",
      "Epoch 4/15\n",
      "640s - loss: 1.2292 - val_loss: 1.1320\n",
      "Epoch 5/15\n",
      "597s - loss: 1.0529 - val_loss: 1.0131\n",
      "Epoch 6/15\n",
      "594s - loss: 0.9665 - val_loss: 0.9502\n",
      "Epoch 7/15\n",
      "596s - loss: 0.9193 - val_loss: 0.9139\n",
      "Epoch 8/15\n",
      "594s - loss: 0.8915 - val_loss: 0.8922\n",
      "Epoch 9/15\n",
      "597s - loss: 0.8734 - val_loss: 0.8772\n",
      "Epoch 10/15\n",
      "610s - loss: 0.8603 - val_loss: 0.8663\n",
      "Epoch 11/15\n",
      "605s - loss: 0.8500 - val_loss: 0.8573\n",
      "Epoch 12/15\n",
      "605s - loss: 0.8411 - val_loss: 0.8490\n",
      "Epoch 13/15\n",
      "606s - loss: 0.8324 - val_loss: 0.8416\n",
      "Epoch 14/15\n",
      "596s - loss: 0.8243 - val_loss: 0.8342\n",
      "Epoch 15/15\n",
      "598s - loss: 0.8164 - val_loss: 0.8276\n"
     ]
    },
    {
     "data": {
      "text/plain": [
       "<keras.callbacks.History at 0x1199dc390>"
      ]
     },
     "execution_count": 6,
     "metadata": {},
     "output_type": "execute_result"
    }
   ],
   "source": [
    "callbacks = [EarlyStopping('val_loss', patience=2), \n",
    "             ModelCheckpoint(MODEL_WEIGHTS_FILE, save_best_only=True)]\n",
    "model.fit([Users, Movies], Ratings, nb_epoch=15, validation_split=.1, verbose=2, callbacks=callbacks)"
   ]
  }
 ],
 "metadata": {
  "kernelspec": {
   "display_name": "Python 2",
   "language": "python",
   "name": "python2"
  },
  "language_info": {
   "codemirror_mode": {
    "name": "ipython",
    "version": 2
   },
   "file_extension": ".py",
   "mimetype": "text/x-python",
   "name": "python",
   "nbconvert_exporter": "python",
   "pygments_lexer": "ipython2",
   "version": "2.7.11"
  }
 },
 "nbformat": 4,
 "nbformat_minor": 0
}
